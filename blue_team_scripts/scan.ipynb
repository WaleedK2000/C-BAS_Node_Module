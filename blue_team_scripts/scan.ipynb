{
 "cells": [
  {
   "cell_type": "code",
   "execution_count": 1,
   "metadata": {},
   "outputs": [
    {
     "name": "stdout",
     "output_type": "stream",
     "text": [
      "hello\n"
     ]
    }
   ],
   "source": [
    "print('hello')"
   ]
  },
  {
   "cell_type": "code",
   "execution_count": 6,
   "metadata": {},
   "outputs": [],
   "source": [
    "import pandas as pd\n",
    "import json\n",
    "import os\n",
    "import subprocess\n",
    "import docker\n",
    "\n",
    "\n",
    "def get_image(container_name):\n",
    "\n",
    "    output = subprocess.check_output(\n",
    "        args=[\"docker\", \"inspect\", \"--format\", \"{{.Config.Image}}\", f\"{container_name}\"])\n",
    "    img_name = output.decode(\"utf-8\").split(\"\\n\")\n",
    "    return img_name[0]\n",
    "\n",
    "\n",
    "def make_scan_json(img):\n",
    "    result = subprocess.run([\"docker\", \"scan\", img, \"--json\"], capture_output=True, text=True)\n",
    "    # Capture the output of the command and decode it to a string\n",
    "    output = result.stdout.strip('utf-8')\n",
    "\n",
    "    try:\n",
    "        # Load the output string as JSON\n",
    "        json_data = json.loads(output)\n",
    "    except json.JSONDecodeError as e:\n",
    "        # Handle JSON decoding errors\n",
    "        raise ValueError('Error decoding JSON: {}'.format(e))\n",
    "\n",
    "    return json_data\n",
    "\n",
    "\n",
    "\n",
    "\n",
    "def get_vul_array(json):\n",
    "    # f = json\n",
    "    data = json\n",
    "    # f.close()\n",
    "    try:\n",
    "        vul_array = data[0]['vulnerabilities']\n",
    "    except KeyError:\n",
    "        vul_array = data['vulnerabilities']\n",
    "\n",
    "    return vul_array\n",
    "\n",
    "def feature_extraction(vul_array):\n",
    "    result = []\n",
    "    for i in range(0, len(vul_array)):\n",
    "        vul_dict = vul_array[i]\n",
    "        new_dict = {\n",
    "            \"title\": vul_dict['title'],\n",
    "            \"CVSSv3\": vul_dict['CVSSv3'],\n",
    "            \"severity\": vul_dict['severity'],\n",
    "            \"cvssScore\": vul_dict['cvssScore'],\n",
    "            \"CVE\": vul_dict['identifiers']['CVE']\n",
    "        }\n",
    "        result.append(new_dict)\n",
    "    return result\n",
    "\n",
    "\n",
    "def separate_severity(result):\n",
    "    low_sev = [d for d in result if d['severity'] == 'low']\n",
    "    med_sev = [d for d in result if d['severity'] == 'medium']\n",
    "    high_sev = [d for d in result if d['severity'] == 'high']\n",
    "    low_sev_count = len(low_sev)\n",
    "    med_sev_count = len(med_sev)\n",
    "    high_sev_count = len(high_sev)\n",
    "    return high_sev, low_sev_count, med_sev_count\n",
    "\n",
    "\n",
    "def get_high_json(high_sev):\n",
    "    df_high = pd.DataFrame(high_sev)\n",
    "    df_high.drop('severity', axis=1, inplace=True)\n",
    "    df_high['Remote Attack Possibility'] = df_high['CVSSv3'].apply(\n",
    "        lambda x: 'possible' if 'AV:N' in x else 'not possible')\n",
    "    df_high = df_high.rename(columns={'title': 'Vulnerability Type'})\n",
    "    # convert each row to a dictionary and append to a list\n",
    "    records = []\n",
    "    for index, row in df_high.iterrows():\n",
    "        record = row.to_dict()\n",
    "        records.append(record)\n",
    "\n",
    "    # convert the list of dictionaries to a list of JSON strings\n",
    "    json_records = [json.dumps(record) for record in records]\n",
    "    return json_records\n",
    "\n",
    "\n",
    "def scanning(container_name):\n",
    "\n",
    "    print('XXXXXXXXXXXXXXX')\n",
    "\n",
    "    img = get_image(container_name)\n",
    "    print('YYYYYYYYYYYYYYYYY')\n",
    "\n",
    "    ret = make_scan_json(img)\n",
    "    array = get_vul_array(ret)\n",
    "    result = feature_extraction(array)\n",
    "    high_sev, low_sev_count, med_sev_count = separate_severity(result)\n",
    "    high_json = get_high_json(high_sev)\n",
    "    return high_json, low_sev_count, med_sev_count, len(high_sev)\n",
    "\n",
    "\n",
    "# container_name = \"loving_mirzakhani\"\n",
    "# high_json, low_sev_count, med_sev_count, high_sev_count = scanning(\n",
    "#     container_name)\n",
    "# print(\"Total number of Low Severnity \", low_sev_count)\n",
    "# print(\"Total number of Medium Severnity \", med_sev_count)\n",
    "# print(\"Total number of High Severnity \", high_sev_count)\n",
    "# print(high_json)\n"
   ]
  },
  {
   "cell_type": "code",
   "execution_count": 7,
   "metadata": {},
   "outputs": [
    {
     "name": "stdout",
     "output_type": "stream",
     "text": [
      "XXXXXXXXXXXXXXX\n",
      "YYYYYYYYYYYYYYYYY\n",
      "Total number of Low Severnity  54\n",
      "Total number of Medium Severnity  46\n",
      "Total number of High Severnity  2\n",
      "['{\"Vulnerability Type\": \"Access of Resource Using Incompatible Type (\\'Type Confusion\\')\", \"CVSSv3\": \"CVSS:3.1/AV:N/AC:H/PR:N/UI:N/S:U/C:H/I:N/A:H\", \"cvssScore\": 7.4, \"CVE\": [\"CVE-2023-0286\"], \"Remote Attack Possibility\": \"possible\"}', '{\"Vulnerability Type\": \"Access of Resource Using Incompatible Type (\\'Type Confusion\\')\", \"CVSSv3\": \"CVSS:3.1/AV:N/AC:H/PR:N/UI:N/S:U/C:H/I:N/A:H\", \"cvssScore\": 7.4, \"CVE\": [\"CVE-2023-0286\"], \"Remote Attack Possibility\": \"possible\"}']\n"
     ]
    }
   ],
   "source": [
    "container_name = \"loving_mirzakhani\"\n",
    "high_json, low_sev_count, med_sev_count, high_sev_count = scanning(\n",
    "    container_name)\n",
    "print(\"Total number of Low Severnity \", low_sev_count)\n",
    "print(\"Total number of Medium Severnity \", med_sev_count)\n",
    "print(\"Total number of High Severnity \", high_sev_count)\n",
    "print(high_json)\n"
   ]
  },
  {
   "cell_type": "code",
   "execution_count": null,
   "metadata": {},
   "outputs": [],
   "source": []
  }
 ],
 "metadata": {
  "kernelspec": {
   "display_name": "Python 3",
   "language": "python",
   "name": "python3"
  },
  "language_info": {
   "codemirror_mode": {
    "name": "ipython",
    "version": 3
   },
   "file_extension": ".py",
   "mimetype": "text/x-python",
   "name": "python",
   "nbconvert_exporter": "python",
   "pygments_lexer": "ipython3",
   "version": "3.10.6"
  },
  "orig_nbformat": 4
 },
 "nbformat": 4,
 "nbformat_minor": 2
}
